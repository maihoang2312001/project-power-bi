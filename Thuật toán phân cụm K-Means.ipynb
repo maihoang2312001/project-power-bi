{
 "cells": [
  {
   "cell_type": "code",
   "execution_count": null,
   "id": "81eebba3-f83c-431b-adc6-1351bda10e57",
   "metadata": {},
   "outputs": [],
   "source": [
    "import numpy as np\n",
    "import matplotlib.pyplot as plt\n",
    "from yellowbrick.cluster import KElbowVisualizer\n",
    "import seaborn as sns\n",
    "from sklearn import preprocessing, metrics, mixture\n",
    "from sklearn.cluster import KMeans\n",
    "df['group'] = ['SC', 'CL', 'SM', 'CL', 'SM', 'SM', 'SM', 'CL', 'CL', 'SC', 'CL', 'CL', 'CL', 'CL', 'CL']\n",
    "sns.set()\n",
    "data = df.iloc[:, np.r_[4:17,20,21,25]].copy()\n",
    "soil_groups = df.iloc[:,44]\n",
    "depth = df['Độ sâu lấy mẫu']\n",
    "data.fillna(0, inplace=True)\n",
    "scaler = preprocessing.MinMaxScaler()\n",
    "features_normal = scaler.fit_transform(data)\n",
    "model = KMeans()\n",
    "visualizer = KElbowVisualizer(model, k=(2,15), timings=True)\n",
    "visualizer.fit(features_normal)\n",
    "visualizer.show()\n",
    "\n",
    "kmeans = KMeans(n_clusters=visualizer.elbow_value_).fit(features_normal)\n",
    "kmeans_predict = pd.DataFrame(kmeans.labels_).iloc[:,0]\n",
    "empty_column = np.full((len(soil_groups),1), np.inf)\n",
    "new_columns = ['DEPTH','SOIL_GROUP', 'KMEANS_PRED', 'KMEANS_GROUP']\n",
    "new_values = [depth,soil_groups, kmeans_predict, empty_column]\n",
    "\n",
    "result_mapping = dict(zip(new_columns, new_values))\n",
    "labeled_features = data[:]\n",
    "labeled_features = labeled_features.assign(**result_mapping)\n",
    "label_list = labeled_features['KMEANS_PRED'].unique()\n",
    "for group in label_list:\n",
    "\tgroup_name=labeled_features[labeled_features['KMEANS_PRED']==group]['SOIL_GROUP'].mode()[0]\n",
    "\tlabeled_features.loc[labeled_features['KMEANS_PRED']==group,'KMEANS_GROUP']=group_name\n",
    "labeled_features.to_csv( 'kmean_1.csv', encoding='utf-8-sig')\n",
    "\n",
    "count = []\n",
    "for i in range(len(labeled_features['KMEANS_GROUP'])):\n",
    "    if labeled_features[\"KMEANS_GROUP\"][i] == labeled_features[\"SOIL_GROUP\"][i]:\n",
    "        count.append(1)\n",
    "\n",
    "len(count)\n",
    "print('Mức độ chính xác của phương pháp KMeans là: ' + str(len(count)/len(labeled_features['KMEANS_GROUP'])*100))"
   ]
  }
 ],
 "metadata": {
  "kernelspec": {
   "display_name": "Python 3 (ipykernel)",
   "language": "python",
   "name": "python3"
  },
  "language_info": {
   "codemirror_mode": {
    "name": "ipython",
    "version": 3
   },
   "file_extension": ".py",
   "mimetype": "text/x-python",
   "name": "python",
   "nbconvert_exporter": "python",
   "pygments_lexer": "ipython3",
   "version": "3.9.13"
  }
 },
 "nbformat": 4,
 "nbformat_minor": 5
}
